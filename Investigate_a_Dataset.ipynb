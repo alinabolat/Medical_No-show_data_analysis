{
 "cells": [
  {
   "cell_type": "markdown",
   "metadata": {},
   "source": [
    "# Investigating the medical appointment no-show trends\n",
    "\n",
    "The following dataset collects information from 100,000 medical appointments taking place over three spring months of 2016 in Brazil. The data set is focused on the attendance of patients and their characteristics, such as gender, age, date of appointment, health conditions, medical scholarship, SMS reminders, etc. A number of characteristics of the patient are included in each row.\n",
    "\n",
    "In the following report I will analyse several factors and determine whether those may affect attendance of patients to their scheduled medical appointments: \n",
    "- Age\n",
    "- Long-term health condition or disability\n",
    "- Medical Scholarship\n",
    "- Waiting time for scheduled appointment if it was booked in advance\n",
    "- SMS reminders"
   ]
  },
  {
   "cell_type": "code",
   "execution_count": 1,
   "metadata": {},
   "outputs": [],
   "source": [
    "# Import all the packages to be used in this project\n",
    "import pandas as pd\n",
    "import numpy as np\n",
    "import seaborn as sns\n",
    "sns.set_style(\"whitegrid\")\n",
    "import matplotlib.pyplot as plt\n",
    "import datetime as dt\n",
    "%matplotlib inline"
   ]
  },
  {
   "cell_type": "markdown",
   "metadata": {},
   "source": [
    "## Data Wrangling\n",
    "\n",
    "**Findings:** Having initially investigated the original data I found that it is a very clean data set with the total of 110,527 entries and 14 columns. There are no duplicates or missing values.  \n",
    "  There are some discrepancies in data which will need to be dealt with: column headers to be corrected, date columns to be converted into 'datetime' for ease of analysis, some out-of-bounds values to be either removed or swapped for consistency.   \n",
    "  Additionally, there should be new data columns created for more insight.  \n",
    "\n",
    "### General Properties"
   ]
  },
  {
   "cell_type": "code",
   "execution_count": 2,
   "metadata": {},
   "outputs": [
    {
     "data": {
      "text/html": [
       "<div>\n",
       "<style>\n",
       "    .dataframe thead tr:only-child th {\n",
       "        text-align: right;\n",
       "    }\n",
       "\n",
       "    .dataframe thead th {\n",
       "        text-align: left;\n",
       "    }\n",
       "\n",
       "    .dataframe tbody tr th {\n",
       "        vertical-align: top;\n",
       "    }\n",
       "</style>\n",
       "<table border=\"1\" class=\"dataframe\">\n",
       "  <thead>\n",
       "    <tr style=\"text-align: right;\">\n",
       "      <th></th>\n",
       "      <th>PatientId</th>\n",
       "      <th>AppointmentID</th>\n",
       "      <th>Gender</th>\n",
       "      <th>ScheduledDay</th>\n",
       "      <th>AppointmentDay</th>\n",
       "      <th>Age</th>\n",
       "      <th>Neighbourhood</th>\n",
       "      <th>Scholarship</th>\n",
       "      <th>Hipertension</th>\n",
       "      <th>Diabetes</th>\n",
       "      <th>Alcoholism</th>\n",
       "      <th>Handcap</th>\n",
       "      <th>SMS_received</th>\n",
       "      <th>No-show</th>\n",
       "    </tr>\n",
       "  </thead>\n",
       "  <tbody>\n",
       "    <tr>\n",
       "      <th>0</th>\n",
       "      <td>2.987250e+13</td>\n",
       "      <td>5642903</td>\n",
       "      <td>F</td>\n",
       "      <td>2016-04-29T18:38:08Z</td>\n",
       "      <td>2016-04-29T00:00:00Z</td>\n",
       "      <td>62</td>\n",
       "      <td>JARDIM DA PENHA</td>\n",
       "      <td>0</td>\n",
       "      <td>1</td>\n",
       "      <td>0</td>\n",
       "      <td>0</td>\n",
       "      <td>0</td>\n",
       "      <td>0</td>\n",
       "      <td>No</td>\n",
       "    </tr>\n",
       "    <tr>\n",
       "      <th>1</th>\n",
       "      <td>5.589978e+14</td>\n",
       "      <td>5642503</td>\n",
       "      <td>M</td>\n",
       "      <td>2016-04-29T16:08:27Z</td>\n",
       "      <td>2016-04-29T00:00:00Z</td>\n",
       "      <td>56</td>\n",
       "      <td>JARDIM DA PENHA</td>\n",
       "      <td>0</td>\n",
       "      <td>0</td>\n",
       "      <td>0</td>\n",
       "      <td>0</td>\n",
       "      <td>0</td>\n",
       "      <td>0</td>\n",
       "      <td>No</td>\n",
       "    </tr>\n",
       "    <tr>\n",
       "      <th>2</th>\n",
       "      <td>4.262962e+12</td>\n",
       "      <td>5642549</td>\n",
       "      <td>F</td>\n",
       "      <td>2016-04-29T16:19:04Z</td>\n",
       "      <td>2016-04-29T00:00:00Z</td>\n",
       "      <td>62</td>\n",
       "      <td>MATA DA PRAIA</td>\n",
       "      <td>0</td>\n",
       "      <td>0</td>\n",
       "      <td>0</td>\n",
       "      <td>0</td>\n",
       "      <td>0</td>\n",
       "      <td>0</td>\n",
       "      <td>No</td>\n",
       "    </tr>\n",
       "    <tr>\n",
       "      <th>3</th>\n",
       "      <td>8.679512e+11</td>\n",
       "      <td>5642828</td>\n",
       "      <td>F</td>\n",
       "      <td>2016-04-29T17:29:31Z</td>\n",
       "      <td>2016-04-29T00:00:00Z</td>\n",
       "      <td>8</td>\n",
       "      <td>PONTAL DE CAMBURI</td>\n",
       "      <td>0</td>\n",
       "      <td>0</td>\n",
       "      <td>0</td>\n",
       "      <td>0</td>\n",
       "      <td>0</td>\n",
       "      <td>0</td>\n",
       "      <td>No</td>\n",
       "    </tr>\n",
       "    <tr>\n",
       "      <th>4</th>\n",
       "      <td>8.841186e+12</td>\n",
       "      <td>5642494</td>\n",
       "      <td>F</td>\n",
       "      <td>2016-04-29T16:07:23Z</td>\n",
       "      <td>2016-04-29T00:00:00Z</td>\n",
       "      <td>56</td>\n",
       "      <td>JARDIM DA PENHA</td>\n",
       "      <td>0</td>\n",
       "      <td>1</td>\n",
       "      <td>1</td>\n",
       "      <td>0</td>\n",
       "      <td>0</td>\n",
       "      <td>0</td>\n",
       "      <td>No</td>\n",
       "    </tr>\n",
       "  </tbody>\n",
       "</table>\n",
       "</div>"
      ],
      "text/plain": [
       "      PatientId  AppointmentID Gender          ScheduledDay  \\\n",
       "0  2.987250e+13        5642903      F  2016-04-29T18:38:08Z   \n",
       "1  5.589978e+14        5642503      M  2016-04-29T16:08:27Z   \n",
       "2  4.262962e+12        5642549      F  2016-04-29T16:19:04Z   \n",
       "3  8.679512e+11        5642828      F  2016-04-29T17:29:31Z   \n",
       "4  8.841186e+12        5642494      F  2016-04-29T16:07:23Z   \n",
       "\n",
       "         AppointmentDay  Age      Neighbourhood  Scholarship  Hipertension  \\\n",
       "0  2016-04-29T00:00:00Z   62    JARDIM DA PENHA            0             1   \n",
       "1  2016-04-29T00:00:00Z   56    JARDIM DA PENHA            0             0   \n",
       "2  2016-04-29T00:00:00Z   62      MATA DA PRAIA            0             0   \n",
       "3  2016-04-29T00:00:00Z    8  PONTAL DE CAMBURI            0             0   \n",
       "4  2016-04-29T00:00:00Z   56    JARDIM DA PENHA            0             1   \n",
       "\n",
       "   Diabetes  Alcoholism  Handcap  SMS_received No-show  \n",
       "0         0           0        0             0      No  \n",
       "1         0           0        0             0      No  \n",
       "2         0           0        0             0      No  \n",
       "3         0           0        0             0      No  \n",
       "4         1           0        0             0      No  "
      ]
     },
     "execution_count": 2,
     "metadata": {},
     "output_type": "execute_result"
    }
   ],
   "source": [
    "# Load original file and see first lines\n",
    "raw_df = pd.read_csv('noshowappointments-kagglev2-may-2016.csv')\n",
    "raw_df.head()"
   ]
  },
  {
   "cell_type": "code",
   "execution_count": 3,
   "metadata": {
    "scrolled": true
   },
   "outputs": [
    {
     "name": "stdout",
     "output_type": "stream",
     "text": [
      "<class 'pandas.core.frame.DataFrame'>\n",
      "RangeIndex: 110527 entries, 0 to 110526\n",
      "Data columns (total 14 columns):\n",
      "PatientId         110527 non-null float64\n",
      "AppointmentID     110527 non-null int64\n",
      "Gender            110527 non-null object\n",
      "ScheduledDay      110527 non-null object\n",
      "AppointmentDay    110527 non-null object\n",
      "Age               110527 non-null int64\n",
      "Neighbourhood     110527 non-null object\n",
      "Scholarship       110527 non-null int64\n",
      "Hipertension      110527 non-null int64\n",
      "Diabetes          110527 non-null int64\n",
      "Alcoholism        110527 non-null int64\n",
      "Handcap           110527 non-null int64\n",
      "SMS_received      110527 non-null int64\n",
      "No-show           110527 non-null object\n",
      "dtypes: float64(1), int64(8), object(5)\n",
      "memory usage: 11.8+ MB\n"
     ]
    }
   ],
   "source": [
    "# View overall information about the data frame\n",
    "raw_df.info()"
   ]
  },
  {
   "cell_type": "code",
   "execution_count": 4,
   "metadata": {},
   "outputs": [
    {
     "data": {
      "text/html": [
       "<div>\n",
       "<style>\n",
       "    .dataframe thead tr:only-child th {\n",
       "        text-align: right;\n",
       "    }\n",
       "\n",
       "    .dataframe thead th {\n",
       "        text-align: left;\n",
       "    }\n",
       "\n",
       "    .dataframe tbody tr th {\n",
       "        vertical-align: top;\n",
       "    }\n",
       "</style>\n",
       "<table border=\"1\" class=\"dataframe\">\n",
       "  <thead>\n",
       "    <tr style=\"text-align: right;\">\n",
       "      <th></th>\n",
       "      <th>PatientId</th>\n",
       "      <th>AppointmentID</th>\n",
       "      <th>Age</th>\n",
       "      <th>Scholarship</th>\n",
       "      <th>Hipertension</th>\n",
       "      <th>Diabetes</th>\n",
       "      <th>Alcoholism</th>\n",
       "      <th>Handcap</th>\n",
       "      <th>SMS_received</th>\n",
       "    </tr>\n",
       "  </thead>\n",
       "  <tbody>\n",
       "    <tr>\n",
       "      <th>count</th>\n",
       "      <td>1.105270e+05</td>\n",
       "      <td>1.105270e+05</td>\n",
       "      <td>110527.000000</td>\n",
       "      <td>110527.000000</td>\n",
       "      <td>110527.000000</td>\n",
       "      <td>110527.000000</td>\n",
       "      <td>110527.000000</td>\n",
       "      <td>110527.000000</td>\n",
       "      <td>110527.000000</td>\n",
       "    </tr>\n",
       "    <tr>\n",
       "      <th>mean</th>\n",
       "      <td>1.474963e+14</td>\n",
       "      <td>5.675305e+06</td>\n",
       "      <td>37.088874</td>\n",
       "      <td>0.098266</td>\n",
       "      <td>0.197246</td>\n",
       "      <td>0.071865</td>\n",
       "      <td>0.030400</td>\n",
       "      <td>0.022248</td>\n",
       "      <td>0.321026</td>\n",
       "    </tr>\n",
       "    <tr>\n",
       "      <th>std</th>\n",
       "      <td>2.560949e+14</td>\n",
       "      <td>7.129575e+04</td>\n",
       "      <td>23.110205</td>\n",
       "      <td>0.297675</td>\n",
       "      <td>0.397921</td>\n",
       "      <td>0.258265</td>\n",
       "      <td>0.171686</td>\n",
       "      <td>0.161543</td>\n",
       "      <td>0.466873</td>\n",
       "    </tr>\n",
       "    <tr>\n",
       "      <th>min</th>\n",
       "      <td>3.921784e+04</td>\n",
       "      <td>5.030230e+06</td>\n",
       "      <td>-1.000000</td>\n",
       "      <td>0.000000</td>\n",
       "      <td>0.000000</td>\n",
       "      <td>0.000000</td>\n",
       "      <td>0.000000</td>\n",
       "      <td>0.000000</td>\n",
       "      <td>0.000000</td>\n",
       "    </tr>\n",
       "    <tr>\n",
       "      <th>25%</th>\n",
       "      <td>4.172614e+12</td>\n",
       "      <td>5.640286e+06</td>\n",
       "      <td>18.000000</td>\n",
       "      <td>0.000000</td>\n",
       "      <td>0.000000</td>\n",
       "      <td>0.000000</td>\n",
       "      <td>0.000000</td>\n",
       "      <td>0.000000</td>\n",
       "      <td>0.000000</td>\n",
       "    </tr>\n",
       "    <tr>\n",
       "      <th>50%</th>\n",
       "      <td>3.173184e+13</td>\n",
       "      <td>5.680573e+06</td>\n",
       "      <td>37.000000</td>\n",
       "      <td>0.000000</td>\n",
       "      <td>0.000000</td>\n",
       "      <td>0.000000</td>\n",
       "      <td>0.000000</td>\n",
       "      <td>0.000000</td>\n",
       "      <td>0.000000</td>\n",
       "    </tr>\n",
       "    <tr>\n",
       "      <th>75%</th>\n",
       "      <td>9.439172e+13</td>\n",
       "      <td>5.725524e+06</td>\n",
       "      <td>55.000000</td>\n",
       "      <td>0.000000</td>\n",
       "      <td>0.000000</td>\n",
       "      <td>0.000000</td>\n",
       "      <td>0.000000</td>\n",
       "      <td>0.000000</td>\n",
       "      <td>1.000000</td>\n",
       "    </tr>\n",
       "    <tr>\n",
       "      <th>max</th>\n",
       "      <td>9.999816e+14</td>\n",
       "      <td>5.790484e+06</td>\n",
       "      <td>115.000000</td>\n",
       "      <td>1.000000</td>\n",
       "      <td>1.000000</td>\n",
       "      <td>1.000000</td>\n",
       "      <td>1.000000</td>\n",
       "      <td>4.000000</td>\n",
       "      <td>1.000000</td>\n",
       "    </tr>\n",
       "  </tbody>\n",
       "</table>\n",
       "</div>"
      ],
      "text/plain": [
       "          PatientId  AppointmentID            Age    Scholarship  \\\n",
       "count  1.105270e+05   1.105270e+05  110527.000000  110527.000000   \n",
       "mean   1.474963e+14   5.675305e+06      37.088874       0.098266   \n",
       "std    2.560949e+14   7.129575e+04      23.110205       0.297675   \n",
       "min    3.921784e+04   5.030230e+06      -1.000000       0.000000   \n",
       "25%    4.172614e+12   5.640286e+06      18.000000       0.000000   \n",
       "50%    3.173184e+13   5.680573e+06      37.000000       0.000000   \n",
       "75%    9.439172e+13   5.725524e+06      55.000000       0.000000   \n",
       "max    9.999816e+14   5.790484e+06     115.000000       1.000000   \n",
       "\n",
       "        Hipertension       Diabetes     Alcoholism        Handcap  \\\n",
       "count  110527.000000  110527.000000  110527.000000  110527.000000   \n",
       "mean        0.197246       0.071865       0.030400       0.022248   \n",
       "std         0.397921       0.258265       0.171686       0.161543   \n",
       "min         0.000000       0.000000       0.000000       0.000000   \n",
       "25%         0.000000       0.000000       0.000000       0.000000   \n",
       "50%         0.000000       0.000000       0.000000       0.000000   \n",
       "75%         0.000000       0.000000       0.000000       0.000000   \n",
       "max         1.000000       1.000000       1.000000       4.000000   \n",
       "\n",
       "        SMS_received  \n",
       "count  110527.000000  \n",
       "mean        0.321026  \n",
       "std         0.466873  \n",
       "min         0.000000  \n",
       "25%         0.000000  \n",
       "50%         0.000000  \n",
       "75%         1.000000  \n",
       "max         1.000000  "
      ]
     },
     "execution_count": 4,
     "metadata": {},
     "output_type": "execute_result"
    }
   ],
   "source": [
    "# Check for any outliners minimums and maximums or unexpected values\n",
    "raw_df.describe()"
   ]
  },
  {
   "cell_type": "code",
   "execution_count": 5,
   "metadata": {},
   "outputs": [
    {
     "data": {
      "text/plain": [
       "0"
      ]
     },
     "execution_count": 5,
     "metadata": {},
     "output_type": "execute_result"
    }
   ],
   "source": [
    "# Look for any duplicates\n",
    "raw_df.duplicated().sum()"
   ]
  },
  {
   "cell_type": "code",
   "execution_count": 6,
   "metadata": {},
   "outputs": [
    {
     "data": {
      "text/plain": [
       "PatientId         0\n",
       "AppointmentID     0\n",
       "Gender            0\n",
       "ScheduledDay      0\n",
       "AppointmentDay    0\n",
       "Age               0\n",
       "Neighbourhood     0\n",
       "Scholarship       0\n",
       "Hipertension      0\n",
       "Diabetes          0\n",
       "Alcoholism        0\n",
       "Handcap           0\n",
       "SMS_received      0\n",
       "No-show           0\n",
       "dtype: int64"
      ]
     },
     "execution_count": 6,
     "metadata": {},
     "output_type": "execute_result"
    }
   ],
   "source": [
    "# Check for missing values for each feature\n",
    "raw_df.isnull().sum()"
   ]
  },
  {
   "cell_type": "code",
   "execution_count": 7,
   "metadata": {},
   "outputs": [
    {
     "data": {
      "text/plain": [
       "PatientId          62299\n",
       "AppointmentID     110527\n",
       "Gender                 2\n",
       "ScheduledDay      103549\n",
       "AppointmentDay        27\n",
       "Age                  104\n",
       "Neighbourhood         81\n",
       "Scholarship            2\n",
       "Hipertension           2\n",
       "Diabetes               2\n",
       "Alcoholism             2\n",
       "Handcap                5\n",
       "SMS_received           2\n",
       "No-show                2\n",
       "dtype: int64"
      ]
     },
     "execution_count": 7,
     "metadata": {},
     "output_type": "execute_result"
    }
   ],
   "source": [
    "# Number of non-null unique values\n",
    "raw_df.nunique()"
   ]
  },
  {
   "cell_type": "markdown",
   "metadata": {},
   "source": [
    "### Data Cleaning\n",
    "In order to perform a thorough analysis, I will be taking following steps to clean the data and then save it to a new file ready for EDA and visualisations.\n",
    "- Clean Table headers, improve any header spelling and errors.\n",
    "- Column 'Handicap' has more values than just 0 and 1, my assumption is that it shows the number of handicap conditions per person. However, according to the data dictionary on [Kaggle.com](https://www.kaggle.com/joniarroba/noshowappointments \"No-Show Appointments\") it should be either True or False, same as other columns with health conditions. For the convenience of this analysis, I will replace any other numerical values to 1 and leave 0 values as they are, meaning that a person either has a disability or doesn't.\n",
    "- There is 1 person with a negative age, and their real age is unknown. Remove unrealistic age of -1, even though it is likely for the person to be 115 years old, it is impossible to be -1.\n",
    "- Looking at the original data - AppointmentDay does not have any information for the time of appointments, while ScheduledDay does. It would not be very informative to analyse during which time of the day the appointments were originally booked, as this is not likely to affect the attendance, so I will drop the time data and only analyse the dates. 'ScheduledDay' and 'AppointmentDay' data formats need to be changed to YYYY-MM-DD.\n",
    "- Create additional columns:  \n",
    "  **'No_shows_b'** no-show data converted to binary, for visualisation.  \n",
    "  **'Waiting_time'** will demonstrate the time delta from Scheduled Appointment and actual Appointment Date.\n",
    "- For this analysis, only the following original data columns will be required: Age, Scholarship, Long-term conditions, SMS-received and No-Show."
   ]
  },
  {
   "cell_type": "markdown",
   "metadata": {},
   "source": [
    "Errors and inconsistencies in column names."
   ]
  },
  {
   "cell_type": "code",
   "execution_count": 8,
   "metadata": {},
   "outputs": [],
   "source": [
    "raw_df.rename(columns={'Handcap':'Handicap', \n",
    "                       'Hipertension':'Hypertension',\n",
    "                       'No-show':'No_show'},inplace=True)"
   ]
  },
  {
   "cell_type": "markdown",
   "metadata": {},
   "source": [
    "Column 'Handicap'"
   ]
  },
  {
   "cell_type": "code",
   "execution_count": 9,
   "metadata": {},
   "outputs": [],
   "source": [
    "# Note original code for masking: https://stackoverflow.com/questions/21608228/conditional-replace-pandas\n",
    "mask = raw_df.Handicap > 1\n",
    "raw_df.loc[mask, 'Handicap'] = 1"
   ]
  },
  {
   "cell_type": "markdown",
   "metadata": {},
   "source": [
    "Unrealistic age of -1"
   ]
  },
  {
   "cell_type": "code",
   "execution_count": 10,
   "metadata": {},
   "outputs": [],
   "source": [
    "# Remove the error entry\n",
    "raw_df = raw_df[raw_df.Age != -1]"
   ]
  },
  {
   "cell_type": "markdown",
   "metadata": {},
   "source": [
    "Date columns"
   ]
  },
  {
   "cell_type": "code",
   "execution_count": 11,
   "metadata": {},
   "outputs": [],
   "source": [
    "# Strip the data of time values\n",
    "raw_df['ScheduledDay'] = raw_df['ScheduledDay'].str.split('T').str[0]\n",
    "raw_df['AppointmentDay'] = raw_df['AppointmentDay'].str.split('T').str[0]"
   ]
  },
  {
   "cell_type": "code",
   "execution_count": 12,
   "metadata": {},
   "outputs": [],
   "source": [
    "# Convert Date colums to Datetime\n",
    "raw_df['ScheduledDay'] = pd.to_datetime(raw_df['ScheduledDay']);\n",
    "raw_df['AppointmentDay'] = pd.to_datetime(raw_df['AppointmentDay']);"
   ]
  },
  {
   "cell_type": "markdown",
   "metadata": {},
   "source": [
    "Additional columns."
   ]
  },
  {
   "cell_type": "code",
   "execution_count": 13,
   "metadata": {},
   "outputs": [],
   "source": [
    "# Note original code for use of conditional formulas in single line\n",
    "# https://stackoverflow.com/questions/14714181/conditional-logic-on-pandas-dataframe\n",
    "raw_df['No_show_b'] = raw_df.No_show.apply(lambda x: 0 if(x=='No') else 1)"
   ]
  },
  {
   "cell_type": "code",
   "execution_count": 14,
   "metadata": {},
   "outputs": [],
   "source": [
    "raw_df['Waiting_time'] = (raw_df['AppointmentDay'] - raw_df['ScheduledDay']).dt.days"
   ]
  },
  {
   "cell_type": "code",
   "execution_count": 15,
   "metadata": {},
   "outputs": [],
   "source": [
    "# Ensure there are no negative Awaiting times\n",
    "raw_df = raw_df[raw_df.Waiting_time >= 0]"
   ]
  },
  {
   "cell_type": "markdown",
   "metadata": {},
   "source": [
    "Drop unnessesary columns"
   ]
  },
  {
   "cell_type": "code",
   "execution_count": 16,
   "metadata": {},
   "outputs": [],
   "source": [
    "raw_df.drop(['PatientId','AppointmentID','Gender','Neighbourhood','AppointmentDay','ScheduledDay'], axis=1, inplace=True)"
   ]
  },
  {
   "cell_type": "markdown",
   "metadata": {},
   "source": [
    "Binning to make the data visualisation less crowded."
   ]
  },
  {
   "cell_type": "code",
   "execution_count": 17,
   "metadata": {},
   "outputs": [],
   "source": [
    "# From 0 to 1+ will be a day's wait, followed by within a week, within two weeks (Fortnight), \n",
    "# within 30 days (Month), within 3 months (Trimester), within 6 months (Half Year), maximum waiting time here is 176 days.\n",
    "# Note original code for binning: https://stackoverflow.com/questions/47040238/cleanest-way-to-bin-using-pandas-cut\n",
    "break_points = [-1,1,7,14,30,90,182]\n",
    "labels_period = [\"Day\",\"Week\", \"Fortnight\", \"Month\", \"Trimester\", \"Half year\"]\n",
    "time_bins = pd.cut(raw_df.Waiting_time, break_points, labels=labels_period)\n",
    "raw_df['Waiting_period'] = time_bins\n",
    "\n",
    "# In the similar manner bin ages into Age Groups\n",
    "break_points = [0,2,6,12,18,30,65,120]\n",
    "labels_age = [\"Infant\",\"Toddler\",\"Child\",\"Teenager\",\"Young adult\",\"Adult\",\"Elder\"]\n",
    "age_bins = pd.cut(raw_df.Age,break_points,labels=labels_age)\n",
    "raw_df['Age_group'] = age_bins"
   ]
  },
  {
   "cell_type": "markdown",
   "metadata": {},
   "source": [
    "Finally save the clean dataframe to a new file"
   ]
  },
  {
   "cell_type": "code",
   "execution_count": 18,
   "metadata": {},
   "outputs": [],
   "source": [
    "raw_df.to_csv('clean_nsa.csv', index=False)"
   ]
  },
  {
   "cell_type": "markdown",
   "metadata": {},
   "source": [
    "## Exploratory Data Analysis\n",
    "In this section I will analyse and visualise data with respect to following questions:\n",
    "1. People of which ages are more prone to miss an appointment?\n",
    "2. Are people with certain health conditions more likely to miss an appointment?\n",
    "3. Is attendance better among patients who are sponsored through a medical scholarship?\n",
    "4. Are SMS notifications an effective way of boosting attendance?\n",
    "5. If the appointment has been booked in advance are patients more likely to forget about it?\n",
    "\n",
    "Most of the provided data is categorical, which means it collects values that are either True or False. For categorical data analysis, simple proportion comparison is the best option. Thus I will mostly use Bar graphs and Histograms for this analysis.\n",
    "\n",
    "## Baseline analysis"
   ]
  },
  {
   "cell_type": "code",
   "execution_count": 19,
   "metadata": {},
   "outputs": [
    {
     "data": {
      "text/html": [
       "<div>\n",
       "<style>\n",
       "    .dataframe thead tr:only-child th {\n",
       "        text-align: right;\n",
       "    }\n",
       "\n",
       "    .dataframe thead th {\n",
       "        text-align: left;\n",
       "    }\n",
       "\n",
       "    .dataframe tbody tr th {\n",
       "        vertical-align: top;\n",
       "    }\n",
       "</style>\n",
       "<table border=\"1\" class=\"dataframe\">\n",
       "  <thead>\n",
       "    <tr style=\"text-align: right;\">\n",
       "      <th></th>\n",
       "      <th>Age</th>\n",
       "      <th>Scholarship</th>\n",
       "      <th>Hypertension</th>\n",
       "      <th>Diabetes</th>\n",
       "      <th>Alcoholism</th>\n",
       "      <th>Handicap</th>\n",
       "      <th>SMS_received</th>\n",
       "      <th>No_show</th>\n",
       "      <th>No_show_b</th>\n",
       "      <th>Waiting_time</th>\n",
       "      <th>Waiting_period</th>\n",
       "      <th>Age_group</th>\n",
       "    </tr>\n",
       "  </thead>\n",
       "  <tbody>\n",
       "    <tr>\n",
       "      <th>0</th>\n",
       "      <td>62</td>\n",
       "      <td>0</td>\n",
       "      <td>1</td>\n",
       "      <td>0</td>\n",
       "      <td>0</td>\n",
       "      <td>0</td>\n",
       "      <td>0</td>\n",
       "      <td>No</td>\n",
       "      <td>0</td>\n",
       "      <td>0</td>\n",
       "      <td>Day</td>\n",
       "      <td>Adult</td>\n",
       "    </tr>\n",
       "    <tr>\n",
       "      <th>1</th>\n",
       "      <td>56</td>\n",
       "      <td>0</td>\n",
       "      <td>0</td>\n",
       "      <td>0</td>\n",
       "      <td>0</td>\n",
       "      <td>0</td>\n",
       "      <td>0</td>\n",
       "      <td>No</td>\n",
       "      <td>0</td>\n",
       "      <td>0</td>\n",
       "      <td>Day</td>\n",
       "      <td>Adult</td>\n",
       "    </tr>\n",
       "  </tbody>\n",
       "</table>\n",
       "</div>"
      ],
      "text/plain": [
       "   Age  Scholarship  Hypertension  Diabetes  Alcoholism  Handicap  \\\n",
       "0   62            0             1         0           0         0   \n",
       "1   56            0             0         0           0         0   \n",
       "\n",
       "   SMS_received No_show  No_show_b  Waiting_time Waiting_period Age_group  \n",
       "0             0      No          0             0            Day     Adult  \n",
       "1             0      No          0             0            Day     Adult  "
      ]
     },
     "execution_count": 19,
     "metadata": {},
     "output_type": "execute_result"
    }
   ],
   "source": [
    "# Load clean data frame and check if all the columnt are in place\n",
    "df = pd.read_csv('clean_nsa.csv')\n",
    "df.head(2)"
   ]
  },
  {
   "cell_type": "markdown",
   "metadata": {},
   "source": [
    "First of all, let's see how does the no-show data look.  \n",
    "  There is about 20% of patients who do not attend the appointments with doctors, which were booked. I will use this proportion as a baseline and a deviation from it may be considered a factor affecting the attendance."
   ]
  },
  {
   "cell_type": "code",
   "execution_count": 20,
   "metadata": {},
   "outputs": [
    {
     "name": "stdout",
     "output_type": "stream",
     "text": [
      "Proportion of missed appointments: 20.18982817745044 %\n"
     ]
    }
   ],
   "source": [
    "# Percentage of no-shows from total amount of appointments\n",
    "# To see the exact number of missed appointments, \n",
    "# filter each attendance status, and use this data to determine percentage\n",
    "missed = df.loc[df.No_show == 'Yes']\n",
    "attend = df.loc[df.No_show == 'No']\n",
    "proportion = len(missed)/(len(missed)+len(attend))*100\n",
    "\n",
    "print((\"Proportion of missed appointments: {} %\").format(proportion))"
   ]
  },
  {
   "cell_type": "code",
   "execution_count": 22,
   "metadata": {},
   "outputs": [
    {
     "data": {
      "image/png": "[encoded data removed]",
      "text/plain": [
       "<matplotlib.figure.Figure at 0x7fee1aff63c8>"
      ]
     },
     "metadata": {},
     "output_type": "display_data"
    }
   ],
   "source": [
    "# Visualising the above proportion\n",
    "g = sns.countplot(x='No_show', data = df)\n",
    "g.set(title=\"Total missed appointments\", xlabel='No-show status', ylabel='Number of patients');"
   ]
  },
  {
   "cell_type": "markdown",
   "metadata": {},
   "source": [
    "### 1.  Age \n",
    "People of which ages are more prone to miss an appointment?  \n",
    "**Findings:** Looking at Graphs 1 and 2, the majority of patients are less than 60 years old. The largest age group by count is adults, followed by young adults in their 20s.  \n",
    "  The no-show rates per age group are illustrated in Graph 3, which show that teenagers miss the doctor's appointments most often, 26% no-shows, they are followed by young adults and children at 23% each. In contrast, infants and elderly people over 65 are very good at keeping their attendance to the doctor."
   ]
  },
  {
   "cell_type": "code",
   "execution_count": 23,
   "metadata": {
    "scrolled": true
   },
   "outputs": [
    {
     "data": {
      "image/png": "[encoded data removed]",
      "text/plain": [
       "<matplotlib.figure.Figure at 0x7fedeb2edb70>"
      ]
     },
     "metadata": {},
     "output_type": "display_data"
    }
   ],
   "source": [
    "plt.figure(figsize=(15, 4))\n",
    "plt.subplot(1, 2, 1) \n",
    "# Note original code for plotting two seaborn graphs side by side - but there should be a more elegant way!\n",
    "# But so far this is the only way that works and one which I understand :)\n",
    "# https://stackoverflow.com/questions/42818361/how-to-make-two-plots-side-by-side-using-python\n",
    "\n",
    "# Visualising number of patients per age group\n",
    "g_1 = sns.countplot(x='Age_group', data = df, palette='Blues',order=df['Age_group'].value_counts().index)\n",
    "g_1.set(title=\"Graph 1: Age groups by size\", xlabel='Age group', ylabel='Number of patients')\n",
    "plt.xticks(rotation=30)\n",
    "\n",
    "# Distribution of Age\n",
    "plt.subplot(1, 2, 2)\n",
    "g_2 = sns.distplot(df['Age'], bins=35) # five bins per each age group\n",
    "g_2.set(title='Graph 2: Age distribution', xlabel='Age', ylabel='Proportion of ages');"
   ]
  },
  {
   "cell_type": "code",
   "execution_count": 24,
   "metadata": {},
   "outputs": [
    {
     "data": {
      "image/png": "[encoded data removed]",
      "text/plain": [
       "<matplotlib.figure.Figure at 0x7fedeb2e0c88>"
      ]
     },
     "metadata": {},
     "output_type": "display_data"
    }
   ],
   "source": [
    "# percentage for show and no_show per each age group.\n",
    "g_3 = pd.crosstab(df.Age_group, df.No_show, normalize = 'index') \n",
    "ax = g_3.plot(kind='barh', stacked=True, figsize=(10,6), title = 'Graph 3: Attendance per age group')\n",
    "ax.set_xlabel('Proportion of no-shows')\n",
    "ax.set_ylabel('Age group')\n",
    "# Original code for the legend: https://matplotlib.org/users/legend_guide.html\n",
    "plt.legend(bbox_to_anchor=(1.05, 1), loc=2, borderaxespad=0., title = 'No-show');"
   ]
  },
  {
   "cell_type": "markdown",
   "metadata": {},
   "source": [
    "### 2 Physical disabilities or health conditions\n",
    "Visualisation of physical disabilities or health conditions data needs a bit more work. First of all, I will create a pivot table with aggregate no-show data for each health condition.  \n",
    "  **Findings:** Looking at graphs in figure 4, there is only a slight difference between them, it appears that people suffering from alcoholism miss their appointments slightly more often: 20% from total booked appointments among people with alcoholism are no-shows. In contrast, people with hypertension, for whom there are a lot more appointments, only miss 17% of those.   \n",
    "  Considering that proportions of no-shows among people with health conditions and disabilities do not deviate much from the baseline, this may not be considered a factor to affect probability of no-shows."
   ]
  },
  {
   "cell_type": "code",
   "execution_count": 25,
   "metadata": {},
   "outputs": [
    {
     "data": {
      "text/html": [
       "<div>\n",
       "<style>\n",
       "    .dataframe thead tr:only-child th {\n",
       "        text-align: right;\n",
       "    }\n",
       "\n",
       "    .dataframe thead th {\n",
       "        text-align: left;\n",
       "    }\n",
       "\n",
       "    .dataframe tbody tr th {\n",
       "        vertical-align: top;\n",
       "    }\n",
       "</style>\n",
       "<table border=\"1\" class=\"dataframe\">\n",
       "  <thead>\n",
       "    <tr style=\"text-align: right;\">\n",
       "      <th>No_show</th>\n",
       "      <th>No</th>\n",
       "      <th>Yes</th>\n",
       "      <th>No_show_rate</th>\n",
       "    </tr>\n",
       "  </thead>\n",
       "  <tbody>\n",
       "    <tr>\n",
       "      <th>Alcoholism</th>\n",
       "      <td>2683</td>\n",
       "      <td>677</td>\n",
       "      <td>20.148810</td>\n",
       "    </tr>\n",
       "    <tr>\n",
       "      <th>Diabetes</th>\n",
       "      <td>6513</td>\n",
       "      <td>1430</td>\n",
       "      <td>18.003273</td>\n",
       "    </tr>\n",
       "    <tr>\n",
       "      <th>Handicap</th>\n",
       "      <td>1834</td>\n",
       "      <td>405</td>\n",
       "      <td>18.088432</td>\n",
       "    </tr>\n",
       "    <tr>\n",
       "      <th>Hypertension</th>\n",
       "      <td>18029</td>\n",
       "      <td>3772</td>\n",
       "      <td>17.301959</td>\n",
       "    </tr>\n",
       "  </tbody>\n",
       "</table>\n",
       "</div>"
      ],
      "text/plain": [
       "No_show          No   Yes  No_show_rate\n",
       "Alcoholism     2683   677     20.148810\n",
       "Diabetes       6513  1430     18.003273\n",
       "Handicap       1834   405     18.088432\n",
       "Hypertension  18029  3772     17.301959"
      ]
     },
     "execution_count": 25,
     "metadata": {},
     "output_type": "execute_result"
    }
   ],
   "source": [
    "# Using Pivot table to see the overal No-show numbers per dissability\n",
    "# Note original code for pivot tables - https://pandas.pydata.org/pandas-docs/stable/reshaping.html\n",
    "conditions = pd.pivot_table(df, values=['Hypertension',\n",
    "                                     'Diabetes',\n",
    "                                     'Alcoholism',\n",
    "                                     'Handicap'],\n",
    "                       columns='No_show',aggfunc=np.sum)\n",
    "# Add no show proportion based on first two columns\n",
    "conditions['No_show_rate'] = (conditions['Yes'] / (conditions['Yes'] + conditions['No']))*100\n",
    "conditions.head()"
   ]
  },
  {
   "cell_type": "code",
   "execution_count": 26,
   "metadata": {
    "scrolled": true
   },
   "outputs": [
    {
     "data": {
      "image/png": "[encoded data removed]",
      "text/plain": [
       "<matplotlib.figure.Figure at 0x7fedeb145a58>"
      ]
     },
     "metadata": {},
     "output_type": "display_data"
    }
   ],
   "source": [
    "# Note original code for crosstab and subplots: http://photo.etangkk.com/Python/blog-03.asp\n",
    "# crosstab function has a very convenient parameter 'normalise',\n",
    "# which calculates proportions\n",
    "g_4_1 = pd.crosstab(df.Alcoholism, df.No_show, normalize = 'index')\n",
    "g_4_2 = pd.crosstab(df.Diabetes, df.No_show, normalize = 'index') \n",
    "g_4_3= pd.crosstab(df.Handicap, df.No_show, normalize = 'index') \n",
    "g_4_4 = pd.crosstab(df.Hypertension, df.No_show, normalize = 'index') \n",
    "\n",
    "fig, axes = plt.subplots(nrows=2, ncols=2, figsize=(16,10))\n",
    "ax = g_4_1.plot(ax=axes[0,0], kind='barh', stacked=True, title = 'Alcoholism', legend = False)\n",
    "ax = g_4_2.plot(ax=axes[0,1], kind='barh', stacked=True, title = 'Diabetes', legend = False)\n",
    "ax = g_4_3.plot(ax=axes[1,0], kind='barh', stacked=True, title = 'Handicap', legend = False)\n",
    "ax = g_4_4.plot(ax=axes[1,1], kind='barh', stacked=True, title = 'Hypertension', legend = False)\n",
    "plt.setp(axes,yticklabels=['Healthy', 'Diagnosed'], xlabel = 'Proportion', ylabel='')\n",
    "plt.legend(bbox_to_anchor=(1.05, 2.2), loc=2, title = 'No-show')\n",
    "plt.suptitle('Graph 4: No-shows per Health Condition', fontsize=14);"
   ]
  },
  {
   "cell_type": "markdown",
   "metadata": {},
   "source": [
    "### 3. Medical Scholarship\n",
    "Scholarship refers to money that is granted to patients who are enrolled in Brasilian welfare program Bolsa Família and are unable to pay for doctor's appointments.\n",
    "I will also analyse this data in perspective with age groups and determine whether being sponsored may affect attendance to their medical appointments.  \n",
    "**Findings:**  There is 10,861 patients or about 10% who have scholarships. From Graph 5 it is observed that most of patiens receivng scholarships are in the Adult age group. It is also observed that there is a slightly bigger proportion of no-shows among people receiving medical scholarships.\n",
    "Yound adults and teenagers being sponsored miss their appointments most often at 27% no-shows, in the largest sponsored age group - Adults, 22% of appointments are missed, while only 13% of sponsored infants miss their appointments."
   ]
  },
  {
   "cell_type": "code",
   "execution_count": 32,
   "metadata": {},
   "outputs": [
    {
     "data": {
      "image/png": "[encoded data removed]",
      "text/plain": [
       "<matplotlib.figure.Figure at 0x7fede9fa20b8>"
      ]
     },
     "metadata": {},
     "output_type": "display_data"
    }
   ],
   "source": [
    "# Visualising total no-show proportion amonth patients with scholarship\n",
    "g_5 = pd.crosstab(df.Scholarship, df.No_show, normalize = 'index')\n",
    "ax = g_5.plot(kind='barh', stacked=True, title='Graph 5: Scholarshop and no-show baseline')\n",
    "plt.setp(ax,yticklabels=['No', 'Yes'], xlabel='Proportion of no-show', ylabel='Scholarship received')\n",
    "plt.legend(bbox_to_anchor=(1.05, 1), loc=2, title = 'No-show');"
   ]
  },
  {
   "cell_type": "code",
   "execution_count": 33,
   "metadata": {
    "scrolled": true
   },
   "outputs": [
    {
     "data": {
      "image/png": "[encoded data removed]",
      "text/plain": [
       "<matplotlib.figure.Figure at 0x7fedea01fc18>"
      ]
     },
     "metadata": {},
     "output_type": "display_data"
    }
   ],
   "source": [
    "# Filter out population paying for their appointments\n",
    "# and create new table to see which age groups receive sponsorship\n",
    "sponsored = df.loc[df.Scholarship == 1,['Scholarship','Age_group','No_show']]\n",
    "\n",
    "# Visualisation of age props distribution among people with medical scholarship\n",
    "g_6 = sns.countplot(x='Age_group', data = sponsored, palette='Blues', order=sponsored['Age_group'].value_counts().index)\n",
    "g_6.set(title='Graph 6: Age groups by size', xlabel='Age group', ylabel='Number of patients')\n",
    "plt.xticks(rotation=30);"
   ]
  },
  {
   "cell_type": "code",
   "execution_count": 30,
   "metadata": {},
   "outputs": [
    {
     "data": {
      "image/png": "[encoded data removed]",
      "text/plain": [
       "<matplotlib.figure.Figure at 0x7fedea0666a0>"
      ]
     },
     "metadata": {},
     "output_type": "display_data"
    }
   ],
   "source": [
    "# Visualising age groups by scholarship count\n",
    "g_7 = pd.crosstab(sponsored.Age_group, sponsored.No_show, normalize = 'index') \n",
    "g_7.plot(kind='barh', stacked=True, figsize=(10,6), title='Graph 7: No-shows per sponsored age group')\n",
    "plt.xlabel('Proportion of no-shows')\n",
    "plt.ylabel('Age group')\n",
    "plt.legend(bbox_to_anchor=(1.05, 1), loc=2, title='No-show');"
   ]
  },
  {
   "cell_type": "markdown",
   "metadata": {},
   "source": [
    "### 3. Waiting time for the appointment\n",
    "Whether an appointment was booked in advance should play a considerable role in the probability of no-show.  \n",
    "  **Findings:** From distribution Graph 8 it is apparent that vast majority of appointments are for within one day of booking time.  \n",
    "  The no-show rate is very low for patients attending doctor's appointment within a day as represented in Graph 9. However no-shows become much more frequent for appointments booked a week in advance, and the highest no-show rate is observed for appointments booked 3 months in advance. Note: in Graph 18 data for 'Half year' is biased, due to a very small sample size."
   ]
  },
  {
   "cell_type": "code",
   "execution_count": 35,
   "metadata": {},
   "outputs": [
    {
     "data": {
      "image/png": "[encoded data removed]",
      "text/plain": [
       "<matplotlib.figure.Figure at 0x7fedea036390>"
      ]
     },
     "metadata": {},
     "output_type": "display_data"
    }
   ],
   "source": [
    "# Distribution of Waiting time\n",
    "plt.figure(figsize=(15, 4))\n",
    "plt.subplot(1, 2, 1)\n",
    "g_8 = sns.distplot(df['Waiting_time'], bins=100)\n",
    "g_8.set(title='Graph 8: Distribution of waiting time before appointment', xlabel='Waiting time in days', ylabel='Proportion of days');\n",
    "\n",
    "# Waiting time bar chart\n",
    "plt.subplot(1, 2, 2)\n",
    "g_9 = sns.barplot(x='Waiting_period', y='No_show_b', data = df, palette='Blues')\n",
    "g_9.set(title='Graph 9: No-shows by Waiting Time',xlabel='Waiting period', ylabel='No-show rate');"
   ]
  },
  {
   "cell_type": "markdown",
   "metadata": {},
   "source": [
    "### 4. SMS reminders\n",
    "SMS reminders are widely used to boost the attendance rate.  \n",
    "**Findings:** A third of all patients waiting for an appointment have received SMS reminders.\n",
    "As expected, the reminders were sent to those patients whose appointments were scheduled 2 or more days in advance.\n",
    "From Graph 10 it can be observed that there is a lower rate of no-shows if a patient has received a reminder. Graph 11 demonstrates that there is still a rise in no-shows over time dispite the reminders."
   ]
  },
  {
   "cell_type": "code",
   "execution_count": 38,
   "metadata": {},
   "outputs": [
    {
     "data": {
      "image/png": "[encoded data removed]",
      "text/plain": [
       "<matplotlib.figure.Figure at 0x7fede9e830b8>"
      ]
     },
     "metadata": {},
     "output_type": "display_data"
    }
   ],
   "source": [
    "# Distribution of SMS reminders\n",
    "g_10 = sns.countplot(x='Waiting_period', hue= 'SMS_received', data=df)\n",
    "g_10.set(title='Graph 10: Reminders sent over time', xlabel='Waiting time before appointment', ylabel='Number of patients')\n",
    "plt.legend(['No','Yes'], bbox_to_anchor=(1.05, 1), loc=2, title='SMS received');"
   ]
  },
  {
   "cell_type": "code",
   "execution_count": 39,
   "metadata": {},
   "outputs": [
    {
     "data": {
      "image/png": "[encoded data removed]",
      "text/plain": [
       "<matplotlib.figure.Figure at 0x7fede9e34630>"
      ]
     },
     "metadata": {},
     "output_type": "display_data"
    }
   ],
   "source": [
    "g_11 = sns.factorplot(x='Waiting_period', y='No_show_b', hue='SMS_received', data=df, kind='bar', \n",
    "                     size = 4, aspect = 2, legend=False, ci=None)\n",
    "g_11.set(title='Graph 11: No-shows and Reminders', xlabel='Waiting time before appointment', ylabel='No-show rate')\n",
    "plt.legend(['No','Yes'], bbox_to_anchor=(1.05, 1), loc=2, title='SMS received');"
   ]
  },
  {
   "cell_type": "markdown",
   "metadata": {},
   "source": [
    "## Conclusions\n",
    "According to this particular data set, there are following conclusions:\n",
    "- Certain age groups such as Teenagers and Young adults may be considered to be a factor to the probability of no-shows.\n",
    "- A long-term health condition or disability does not have a big effect on the probability of medical no-shows in this dataset.\n",
    "- Medical Scholarship yielded interesting results, as people with scholarships tend to miss their appointments more, according to this dataset.\n",
    "- Waiting time for scheduled appointment does have an effect on the probability of attendance, the more time passes between booking date and appointment, the fewer people show up.\n",
    "- SMS reminders do have a slight effect on attendance, however, with time they become less effective.\n",
    "\n",
    "\n",
    "Limitations:\n",
    "- Larger sample size (over 100k entries) would have allowed performing more undistorted analysis in multiple dimensions, such as no-shows comparison between age groups with certain health conditions.\n",
    "- Longer time set (for a period of 12 months or more) would have allowed observing if there are any seasonal dependencies. For example, if people with certain health conditions are attending more during a certain season, or if the attendance drops during particularly rainy or hot months.\n",
    "- Information about who booked an appointment, e.g. the doctor, patient, or it was a routine/recurring booking. These factors could also play a role in probability of no-shows.\n",
    "- It would be interesting to investigate whether there were a certain number of SMS reminders, as sending more frequent notifications, logically, could have an effect on attendance."
   ]
  },
  {
   "cell_type": "code",
   "execution_count": null,
   "metadata": {},
   "outputs": [],
   "source": [
    "from subprocess import call\n",
    "call(['python', '-m', 'nbconvert', 'Investigate_a_Dataset.ipynb'])"
   ]
  },
  {
   "cell_type": "code",
   "execution_count": null,
   "metadata": {},
   "outputs": [],
   "source": []
  }
 ],
 "metadata": {
  "kernelspec": {
   "display_name": "Python 3",
   "language": "python",
   "name": "python3"
  },
  "language_info": {
   "codemirror_mode": {
    "name": "ipython",
    "version": 3
   },
   "file_extension": ".py",
   "mimetype": "text/x-python",
   "name": "python",
   "nbconvert_exporter": "python",
   "pygments_lexer": "ipython3",
   "version": "3.6.3"
  }
 },
 "nbformat": 4,
 "nbformat_minor": 2
}
